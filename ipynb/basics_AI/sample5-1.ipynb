{
 "cells": [
  {
   "cell_type": "code",
   "execution_count": null,
   "id": "initial_id",
   "metadata": {
    "collapsed": true
   },
   "outputs": [],
   "source": [
    ""
   ]
  },
  {
   "metadata": {},
   "cell_type": "markdown",
   "source": [
    "## 📉 회귀 분석으로 스마트폰 사용이 시험 점수에 영향을 주는지 알아봅시다\n",
    "\n",
    "이번에는 스마트폰 사용 시간이 시험 점수에 **어떻게 영향을 주는지**\n",
    "수학적으로 분석해보는 **회귀 분석**을 해볼 거예요.\n",
    "\n",
    "\"스마트폰을 오래 쓸수록 점수가 떨어질까?\"\n",
    "\"그게 정말 맞는지, 그냥 느낌일 뿐인지 확인해볼 수는 없을까?\"\n",
    "\n",
    "→ 이럴 때 회귀 분석을 사용합니다!\n"
   ],
   "id": "b303af7c977ce34e"
  },
  {
   "metadata": {
    "ExecuteTime": {
     "end_time": "2025-05-12T06:04:56.294239Z",
     "start_time": "2025-05-12T06:04:56.280002Z"
    }
   },
   "cell_type": "code",
   "source": [
    "\n",
    "import pandas as pd\n",
    "import matplotlib.pyplot as plt\n",
    "\n",
    "# 예제 데이터\n",
    "data = {\n",
    "    \"공부시간(시간)\": [1, 2, 3, 4, 5, 2, 6, 3, 5, 4],\n",
    "    \"스마트폰 사용시간(시간)\": [5, 4, 3, 3, 2, 6, 1, 4, 2, 3],\n",
    "    \"시험점수\": [40, 50, 60, 70, 80, 45, 90, 60, 85, 75]\n",
    "}\n",
    "\n",
    "df = pd.DataFrame(data)\n",
    "df\n"
   ],
   "id": "a7a50b7f767dcb69",
   "outputs": [
    {
     "data": {
      "text/plain": [
       "   공부시간(시간)  스마트폰 사용시간(시간)  시험점수\n",
       "0         1              5    40\n",
       "1         2              4    50\n",
       "2         3              3    60\n",
       "3         4              3    70\n",
       "4         5              2    80\n",
       "5         2              6    45\n",
       "6         6              1    90\n",
       "7         3              4    60\n",
       "8         5              2    85\n",
       "9         4              3    75"
      ],
      "text/html": [
       "<div>\n",
       "<style scoped>\n",
       "    .dataframe tbody tr th:only-of-type {\n",
       "        vertical-align: middle;\n",
       "    }\n",
       "\n",
       "    .dataframe tbody tr th {\n",
       "        vertical-align: top;\n",
       "    }\n",
       "\n",
       "    .dataframe thead th {\n",
       "        text-align: right;\n",
       "    }\n",
       "</style>\n",
       "<table border=\"1\" class=\"dataframe\">\n",
       "  <thead>\n",
       "    <tr style=\"text-align: right;\">\n",
       "      <th></th>\n",
       "      <th>공부시간(시간)</th>\n",
       "      <th>스마트폰 사용시간(시간)</th>\n",
       "      <th>시험점수</th>\n",
       "    </tr>\n",
       "  </thead>\n",
       "  <tbody>\n",
       "    <tr>\n",
       "      <th>0</th>\n",
       "      <td>1</td>\n",
       "      <td>5</td>\n",
       "      <td>40</td>\n",
       "    </tr>\n",
       "    <tr>\n",
       "      <th>1</th>\n",
       "      <td>2</td>\n",
       "      <td>4</td>\n",
       "      <td>50</td>\n",
       "    </tr>\n",
       "    <tr>\n",
       "      <th>2</th>\n",
       "      <td>3</td>\n",
       "      <td>3</td>\n",
       "      <td>60</td>\n",
       "    </tr>\n",
       "    <tr>\n",
       "      <th>3</th>\n",
       "      <td>4</td>\n",
       "      <td>3</td>\n",
       "      <td>70</td>\n",
       "    </tr>\n",
       "    <tr>\n",
       "      <th>4</th>\n",
       "      <td>5</td>\n",
       "      <td>2</td>\n",
       "      <td>80</td>\n",
       "    </tr>\n",
       "    <tr>\n",
       "      <th>5</th>\n",
       "      <td>2</td>\n",
       "      <td>6</td>\n",
       "      <td>45</td>\n",
       "    </tr>\n",
       "    <tr>\n",
       "      <th>6</th>\n",
       "      <td>6</td>\n",
       "      <td>1</td>\n",
       "      <td>90</td>\n",
       "    </tr>\n",
       "    <tr>\n",
       "      <th>7</th>\n",
       "      <td>3</td>\n",
       "      <td>4</td>\n",
       "      <td>60</td>\n",
       "    </tr>\n",
       "    <tr>\n",
       "      <th>8</th>\n",
       "      <td>5</td>\n",
       "      <td>2</td>\n",
       "      <td>85</td>\n",
       "    </tr>\n",
       "    <tr>\n",
       "      <th>9</th>\n",
       "      <td>4</td>\n",
       "      <td>3</td>\n",
       "      <td>75</td>\n",
       "    </tr>\n",
       "  </tbody>\n",
       "</table>\n",
       "</div>"
      ]
     },
     "execution_count": 2,
     "metadata": {},
     "output_type": "execute_result"
    }
   ],
   "execution_count": 2
  },
  {
   "metadata": {
    "ExecuteTime": {
     "end_time": "2025-05-12T06:05:25.904937Z",
     "start_time": "2025-05-12T06:05:25.778841Z"
    }
   },
   "cell_type": "code",
   "source": [
    "\n",
    "from sklearn.linear_model import LinearRegression\n",
    "import numpy as np\n",
    "import matplotlib.font_manager as fm\n",
    "import platform\n",
    "\n",
    "# 시스템에 따라 기본 한글 폰트 설정\n",
    "if platform.system() == 'Darwin':  # macOS\n",
    "    plt.rcParams['font.family'] = 'AppleGothic'\n",
    "elif platform.system() == 'Windows':  # Windows\n",
    "    plt.rcParams['font.family'] = 'Malgun Gothic'\n",
    "else:  # Linux or 기타\n",
    "    plt.rcParams['font.family'] = 'NanumGothic'\n",
    "\n",
    "# X는 독립 변수 (스마트폰 사용시간), y는 종속 변수 (시험 점수)\n",
    "X = df[[\"스마트폰 사용시간(시간)\"]]  # 2차원 배열로 만들어야 함\n",
    "y = df[\"시험점수\"]\n",
    "\n",
    "# 선형 회귀 모델 만들고 학습\n",
    "model = LinearRegression()\n",
    "model.fit(X, y)\n",
    "\n",
    "# 회귀선 그리기\n",
    "plt.scatter(X, y, color='red', label=\"실제 점수\")\n",
    "plt.plot(X, model.predict(X), color='blue', label=\"회귀선\")\n",
    "plt.xlabel(\"스마트폰 사용시간(시간)\")\n",
    "plt.ylabel(\"시험점수\")\n",
    "plt.title(\"스마트폰 사용과 시험 점수의 관계 (회귀 분석)\")\n",
    "plt.legend()\n",
    "plt.grid(True)\n",
    "plt.show()\n"
   ],
   "id": "22e59a7f91a2263",
   "outputs": [
    {
     "data": {
      "text/plain": [
       "<Figure size 640x480 with 1 Axes>"
      ],
      "image/png": "[encoded data removed]"
     },
     "metadata": {},
     "output_type": "display_data"
    }
   ],
   "execution_count": 4
  },
  {
   "metadata": {
    "ExecuteTime": {
     "end_time": "2025-05-12T06:07:45.484606Z",
     "start_time": "2025-05-12T06:07:45.480867Z"
    }
   },
   "cell_type": "code",
   "source": [
    "\n",
    "# 기울기(계수)와 절편\n",
    "coef = model.coef_[0]\n",
    "intercept = model.intercept_\n",
    "\n",
    "print(f\"회귀식: 점수 = {coef:.2f} × 스마트폰 사용시간 + {intercept:.2f}\")\n"
   ],
   "id": "13cefd962b25349f",
   "outputs": [
    {
     "name": "stdout",
     "output_type": "stream",
     "text": [
      "회귀식: 점수 = -10.77 × 스마트폰 사용시간 + 101.04\n"
     ]
    }
   ],
   "execution_count": 7
  },
  {
   "metadata": {},
   "cell_type": "code",
   "outputs": [],
   "execution_count": null,
   "source": "",
   "id": "af287f86282d20ee"
  },
  {
   "metadata": {},
   "cell_type": "markdown",
   "source": [
    "### 🧠 해석해볼까요?\n",
    "\n",
    "- `기울기`가 **음수(-10.77)** 이니까, 스마트폰을 **1시간 더 사용하면 점수가 약 10점 줄어든다**는 뜻이에요.\n",
    "- `절편`은 스마트폰을 전혀 안 쓴 경우 예상 점수예요. (이 예제에서는 약 101점)\n",
    "\n",
    "🎯 결론: **스마트폰 사용 시간이 늘어날수록 시험 점수가 줄어드는 경향**이 있어 보이네요!\n",
    "\n",
    "## ❓ 회귀식에 100점이 넘는 값이 나오는 이유는?\n",
    "\n",
    "예를 들어 이런 회귀식이 나왔다고 해봅시다:\n",
    "\n",
    "> **점수 = -10.77 × 스마트폰 사용시간 + 101.04**\n",
    "\n",
    "\"어? 스마트폰을 0시간 쓰면 점수가 101점인데,\n",
    "시험은 **100점이 만점 아닌가요?** 이 식 이상한 거 아닌가요?\"\n",
    "\n",
    "👉 **좋은 질문이에요!**\n",
    "\n",
    "---\n",
    "\n",
    "### 🎯 현실과 회귀식의 차이\n",
    "\n",
    "회귀식은 **전체 데이터를 가장 잘 설명하는 '직선' 하나를 찾는 것**이에요.\n",
    "그래서 현실에 없는 점수(예: 101점)도 **\"수학적으로 계산된 예측값\"**으로 나올 수 있어요.\n",
    "\n",
    "> 회귀식은 \"**정확한 점수**\"를 알려주는 게 아니라,\n",
    "> \"**변수들 사이의 경향(패턴)**\"을 알려주는 도구예요.\n",
    "\n",
    "---\n",
    "\n",
    "### 🔍 이 식이 알려주는 진짜 의미\n",
    "\n",
    "- 스마트폰을 1시간 더 쓰면, 점수가 **평균적으로 약 10.8점 줄어들 수 있다**는 의미예요.\n",
    "- 0시간일 때 101점이라는 건 그냥 **선의 출발점**, 즉 **절편(intercept)**일 뿐이에요.\n",
    "- 실제로는 점수가 100점을 넘지 않도록 **해석하거나 제한해서 사용**해야 해요.\n",
    "\n",
    "---\n",
    "\n",
    "### ✅ 마무리 정리\n",
    "\n",
    "- 회귀식에서 **100점이 넘는 값이 나와도 걱정하지 마세요!**\n",
    "- 중요한 건 \"**스마트폰을 많이 쓰면 점수가 얼마나 줄어드는지**\"를 아는 거예요.\n",
    "- 현실에서는 점수의 범위를 **0~100 사이로 자르고**,\n",
    "  회귀식은 **그 경향을 파악하는 참고 도구**로 쓰면 돼요 😊\n",
    "\n"
   ],
   "id": "7eb9fd2eaa2f404"
  },
  {
   "metadata": {},
   "cell_type": "code",
   "outputs": [],
   "execution_count": null,
   "source": "",
   "id": "9f949ffe0cf3fc2e"
  },
  {
   "metadata": {},
   "cell_type": "markdown",
   "source": [
    "## 🤔 model.fit(X, y) 이게 무슨 뜻일까요?\n",
    "\n",
    "이 코드는 **선형 회귀 모델이 데이터를 보고 '최고의 직선'을 찾는 과정**을 말해요!\n",
    "\n",
    "예를 들어 아래처럼 데이터가 있다고 해볼게요:\n",
    "\n",
    "| 스마트폰 사용시간 | 시험 점수 |\n",
    "|------------------|------------|\n",
    "| 1시간            | 90점       |\n",
    "| 2시간            | 80점       |\n",
    "| 3시간            | 70점       |\n",
    "\n",
    "이 데이터를 보고 우리가 할 일은?\n",
    "\n",
    "> **\"이 점수들을 가장 잘 설명하는 직선을 그려라!\"**\n",
    "\n",
    "---\n",
    "\n",
    "### 📐 그럼 '직선'은 어떻게 정할까요?\n",
    "\n",
    "직선의 공식은 이렇게 생겼어요:\n",
    "\n",
    "> **점수 = a × 스마트폰사용시간 + b**\n",
    "\n",
    "여기서,\n",
    "- `a`: 기울기 (사용 시간이 늘어나면 점수가 얼마나 바뀌는지)\n",
    "- `b`: 절편 (스마트폰을 아예 안 썼을 때 예상 점수)\n",
    "\n",
    "---\n",
    "\n",
    "### 🎯 model.fit(X, y)가 하는 일\n",
    "\n",
    "`model.fit(X, y)`는 이런 작업을 해요:\n",
    "\n",
    "1. 여러 개의 `a`, `b` 값을 막 넣어봅니다.\n",
    "2. 각 직선이 데이터와 얼마나 잘 맞는지 계산합니다.\n",
    "   - 예측 값과 실제 값 차이(오차)를 구해요.\n",
    "   - 예: (예측 - 실제)의 제곱을 모두 더함\n",
    "3. 오차가 가장 작은 `a`, `b` 값을 찾아냅니다.\n",
    "   → 이것이 **가장 잘 맞는 직선**이 되는 거예요!\n",
    "\n",
    "이걸 수학적으로는 **\"최소제곱법 (Least Squares)\"**이라고 불러요.\n",
    "\n",
    "---\n",
    "\n",
    "### ✅ 정리하면\n",
    "\n",
    "- `model.fit(X, y)`는 데이터를 보고\n",
    "- \"**오차가 가장 적은 직선**\"을 찾고\n",
    "- 그 직선의 기울기 `a`, 절편 `b`를 모델에 저장해요.\n",
    "\n",
    "이제 `model.predict()`를 쓰면,\n",
    "- 새 스마트폰 사용 시간에 대해\n",
    "- 점수를 예측해줄 수 있게 되는 거예요! 📈\n"
   ],
   "id": "4e265ae83a54e827"
  },
  {
   "metadata": {},
   "cell_type": "markdown",
   "source": [
    "## 🧮 선형 회귀 직접 계산해보기 (기울기와 절편 수식 유도)\n",
    "\n",
    "`LinearRegression().fit(X, y)` 없이도 직접 회귀식을 만들 수 있어요!\n",
    "우리가 원하는 건 이 공식이에요:\n",
    "\n",
    "> **점수 = a × 스마트폰 사용시간 + b**\n",
    "\n",
    "여기서 `a`는 기울기, `b`는 절편입니다."
   ],
   "id": "5751eecaa833f27"
  },
  {
   "metadata": {
    "ExecuteTime": {
     "end_time": "2025-05-12T06:12:10.319466Z",
     "start_time": "2025-05-12T06:12:10.315754Z"
    }
   },
   "cell_type": "code",
   "source": [
    "# 스마트폰 사용 시간과 점수 데이터\n",
    "x = df[\"스마트폰 사용시간(시간)\"].values\n",
    "y = df[\"시험점수\"].values\n",
    "\n",
    "# 평균값\n",
    "x_mean = x.mean()\n",
    "y_mean = y.mean()\n",
    "\n",
    "# 분자: (x_i - x̄)(y_i - ȳ) 의 합\n",
    "numerator = ((x - x_mean) * (y - y_mean)).sum()\n",
    "\n",
    "# 분모: (x_i - x̄)^2 의 합\n",
    "denominator = ((x - x_mean) ** 2).sum()\n",
    "\n",
    "# 기울기 a, 절편 b 계산\n",
    "a = numerator / denominator\n",
    "b = y_mean - a * x_mean\n",
    "\n",
    "print(f\"우리가 직접 구한 회귀식: 점수 = {a:.2f} × 스마트폰시간 + {b:.2f}\")\n"
   ],
   "id": "a8fa2157aa500ce1",
   "outputs": [
    {
     "name": "stdout",
     "output_type": "stream",
     "text": [
      "우리가 직접 구한 회귀식: 점수 = -10.77 × 스마트폰시간 + 101.04\n"
     ]
    }
   ],
   "execution_count": 8
  },
  {
   "metadata": {},
   "cell_type": "markdown",
   "source": [
    "## 🧮 수식 설명: 기울기 a 와 절편 b 는 어떻게 구할까요?\n",
    "\n",
    "회귀식의 기본 형태는 다음과 같아요:\n",
    "\n",
    "> **점수 = a × 스마트폰사용시간 + b**\n",
    "\n",
    "- `a`는 **기울기**: 스마트폰 사용 시간이 1시간 늘어날 때, 점수가 얼마나 바뀌는지\n",
    "- `b`는 **절편**: 스마트폰을 **0시간** 썼을 때의 예상 점수 (출발점)\n",
    "\n",
    "---\n",
    "\n",
    "### 📐 기울기 a 계산 공식\n",
    "\n",
    "$$\n",
    "a = \\frac{ \\sum (x_i - \\bar{x})(y_i - \\bar{y}) }{ \\sum (x_i - \\bar{x})^2 }\n",
    "$$\n",
    "\n",
    "\n",
    "#### 이게 무슨 뜻일까요?\n",
    "\n",
    "- `x_i - x̄`: 각 사람의 스마트폰 사용 시간이 **평균에서 얼마나 벗어났는지**\n",
    "- `y_i - ȳ`: 각 사람의 시험 점수가 **평균에서 얼마나 벗어났는지**\n",
    "\n",
    "→ 분자는 이 두 편차를 **곱한 값들의 합**이에요.\n",
    "\n",
    "👉 즉, \"스마트폰을 많이 쓴 사람의 점수가 낮았다\" 같은 **같은 방향의 변화가 많을수록 값이 커져요.**\n",
    "\n",
    "- 분모는 `x_i - x̄`의 **제곱**이니까,\n",
    "  스마트폰 사용 시간의 **흩어진 정도(=분산)**만 계산하는 거예요.\n",
    "\n",
    "---\n",
    "\n",
    "### 🎯 결론\n",
    "\n",
    "- 분자: \"x와 y가 **같은 방향으로** 움직인 정도\"\n",
    "- 분모: \"x가 평균에서 **얼마나 흩어져 있는지**\"\n",
    "\n",
    "그래서 `a`는:\n",
    "\n",
    "> \"**x가 변할 때 y가 얼마나 같이 변하는지**\"를 알려주는 값이에요.\n",
    "> 즉, **스마트폰 사용이 점수에 얼마나 영향을 주는지를 수학적으로 계산**한 거예요!\n",
    "\n",
    "---\n",
    "\n",
    "### 절편 b는?\n",
    "\n",
    "\n",
    "$$\n",
    "b = \\bar{y} - a \\cdot \\bar{x}\n",
    "$$\n",
    "\n",
    "\n",
    "- 평균값을 기준으로 기울기만큼 빼주는 방식이에요.\n",
    "- **기울기 `a`가 정해지면**, 출발점인 `b`도 자연스럽게 결정돼요.\n"
   ],
   "id": "d67d9619e6051935"
  },
  {
   "metadata": {},
   "cell_type": "code",
   "outputs": [],
   "execution_count": null,
   "source": "",
   "id": "8db156b4f1b27adc"
  }
 ],
 "metadata": {
  "kernelspec": {
   "display_name": "Python 3",
   "language": "python",
   "name": "python3"
  },
  "language_info": {
   "codemirror_mode": {
    "name": "ipython",
    "version": 2
   },
   "file_extension": ".py",
   "mimetype": "text/x-python",
   "name": "python",
   "nbconvert_exporter": "python",
   "pygments_lexer": "ipython2",
   "version": "2.7.6"
  }
 },
 "nbformat": 4,
 "nbformat_minor": 5
}
