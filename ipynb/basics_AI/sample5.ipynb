{
 "cells": [
  {
   "metadata": {},
   "cell_type": "code",
   "outputs": [],
   "execution_count": null,
   "source": "",
   "id": "6d8ec0b6130a093b"
  },
  {
   "metadata": {},
   "cell_type": "markdown",
   "source": [
    "## 주요 변수(중요한 변수)란 무엇인가요?\n",
    "\n",
    "세상에는 너무나 많은 정보가 있어요.\n",
    "하지만 우리가 어떤 문제를 풀 때, **모든 정보가 다 필요한 것은 아니에요.**\n",
    "\n",
    "예를 들어, 친구가 **시험 성적**을 예측하고 싶다고 해봅시다.\n",
    "다음과 같은 정보가 있다고 할게요.\n",
    "\n",
    "- 하루에 공부한 시간\n",
    "- 잠을 잔 시간\n",
    "- 스마트폰을 한 시간\n",
    "- 아침에 뭘 먹었는지\n",
    "- 좋아하는 게임\n",
    "- 키와 몸무게\n",
    "\n",
    "여기서 진짜 **시험 성적에 영향을 줄 것 같은 정보**는 어떤 것일까요?\n",
    "\n",
    "> 공부한 시간이나 스마트폰 사용 시간은 영향을 줄 수 있겠지만,\n",
    "> 아침에 뭘 먹었는지나 몸무게는 별로 상관이 없을 것 같지요?\n",
    "\n",
    "이렇게 **결과에 큰 영향을 주는 정보**를 **\"주요 변수\"**,\n",
    "**영어로는 \"important features\" 또는 \"significant variables\"**라고 해요.\n",
    "\n",
    "---\n",
    "\n",
    "### 왜 주요 변수를 뽑아야 하나요?\n",
    "\n",
    "1. **쓸모없는 정보는 빼고 중요한 것만 쓰면** 더 빠르고 정확하게 예측할 수 있어요.\n",
    "2. **무엇이 진짜 중요한지 알면**, 문제를 더 잘 이해할 수 있어요.\n",
    "3. **설명하기 쉬워요!**\n",
    "   예: \"시험 성적은 공부 시간과 스마트폰 사용 시간이 제일 중요해요.\"\n",
    "\n",
    "---\n",
    "\n",
    "### 주요 변수를 뽑는 방법은?\n",
    "\n",
    "- **사람이 직접 판단**하는 방법도 있어요. (예: 상식, 경험)\n",
    "- **컴퓨터가 계산해서 찾아주는 방법**도 있어요. (예: 상관관계, 결정 트리, Lasso 등)\n",
    "\n",
    "우리는 앞으로 컴퓨터가 주요 변수를 어떻게 찾아내는지도 배울 거예요 😊\n",
    "\n",
    "\n",
    "아래는 10명의 학생이 하루에 공부한 시간과 스마트폰 사용 시간, 그리고 시험 점수를 기록한 자료예요.\n",
    "이 데이터를 가지고 어떤 변수가 시험 점수에 영향을 주는지 시각화해서 확인해볼 거예요!\n",
    "\n"
   ],
   "id": "30978d1afd5c2f2c"
  },
  {
   "metadata": {
    "ExecuteTime": {
     "end_time": "2025-05-12T05:54:24.344405Z",
     "start_time": "2025-05-12T05:54:24.328975Z"
    }
   },
   "cell_type": "code",
   "source": [
    "\n",
    "import pandas as pd\n",
    "import matplotlib.pyplot as plt\n",
    "\n",
    "# 예제 데이터\n",
    "data = {\n",
    "    \"공부시간(시간)\": [1, 2, 3, 4, 5, 2, 6, 3, 5, 4],\n",
    "    \"스마트폰 사용시간(시간)\": [5, 4, 3, 3, 2, 6, 1, 4, 2, 3],\n",
    "    \"시험점수\": [40, 50, 60, 70, 80, 45, 90, 60, 85, 75]\n",
    "}\n",
    "\n",
    "df = pd.DataFrame(data)\n",
    "df\n"
   ],
   "id": "3ec2d48b3b06c095",
   "outputs": [
    {
     "data": {
      "text/plain": [
       "   공부시간(시간)  스마트폰 사용시간(시간)  시험점수\n",
       "0         1              5    40\n",
       "1         2              4    50\n",
       "2         3              3    60\n",
       "3         4              3    70\n",
       "4         5              2    80\n",
       "5         2              6    45\n",
       "6         6              1    90\n",
       "7         3              4    60\n",
       "8         5              2    85\n",
       "9         4              3    75"
      ],
      "text/html": [
       "<div>\n",
       "<style scoped>\n",
       "    .dataframe tbody tr th:only-of-type {\n",
       "        vertical-align: middle;\n",
       "    }\n",
       "\n",
       "    .dataframe tbody tr th {\n",
       "        vertical-align: top;\n",
       "    }\n",
       "\n",
       "    .dataframe thead th {\n",
       "        text-align: right;\n",
       "    }\n",
       "</style>\n",
       "<table border=\"1\" class=\"dataframe\">\n",
       "  <thead>\n",
       "    <tr style=\"text-align: right;\">\n",
       "      <th></th>\n",
       "      <th>공부시간(시간)</th>\n",
       "      <th>스마트폰 사용시간(시간)</th>\n",
       "      <th>시험점수</th>\n",
       "    </tr>\n",
       "  </thead>\n",
       "  <tbody>\n",
       "    <tr>\n",
       "      <th>0</th>\n",
       "      <td>1</td>\n",
       "      <td>5</td>\n",
       "      <td>40</td>\n",
       "    </tr>\n",
       "    <tr>\n",
       "      <th>1</th>\n",
       "      <td>2</td>\n",
       "      <td>4</td>\n",
       "      <td>50</td>\n",
       "    </tr>\n",
       "    <tr>\n",
       "      <th>2</th>\n",
       "      <td>3</td>\n",
       "      <td>3</td>\n",
       "      <td>60</td>\n",
       "    </tr>\n",
       "    <tr>\n",
       "      <th>3</th>\n",
       "      <td>4</td>\n",
       "      <td>3</td>\n",
       "      <td>70</td>\n",
       "    </tr>\n",
       "    <tr>\n",
       "      <th>4</th>\n",
       "      <td>5</td>\n",
       "      <td>2</td>\n",
       "      <td>80</td>\n",
       "    </tr>\n",
       "    <tr>\n",
       "      <th>5</th>\n",
       "      <td>2</td>\n",
       "      <td>6</td>\n",
       "      <td>45</td>\n",
       "    </tr>\n",
       "    <tr>\n",
       "      <th>6</th>\n",
       "      <td>6</td>\n",
       "      <td>1</td>\n",
       "      <td>90</td>\n",
       "    </tr>\n",
       "    <tr>\n",
       "      <th>7</th>\n",
       "      <td>3</td>\n",
       "      <td>4</td>\n",
       "      <td>60</td>\n",
       "    </tr>\n",
       "    <tr>\n",
       "      <th>8</th>\n",
       "      <td>5</td>\n",
       "      <td>2</td>\n",
       "      <td>85</td>\n",
       "    </tr>\n",
       "    <tr>\n",
       "      <th>9</th>\n",
       "      <td>4</td>\n",
       "      <td>3</td>\n",
       "      <td>75</td>\n",
       "    </tr>\n",
       "  </tbody>\n",
       "</table>\n",
       "</div>"
      ]
     },
     "execution_count": 2,
     "metadata": {},
     "output_type": "execute_result"
    }
   ],
   "execution_count": 2
  },
  {
   "metadata": {},
   "cell_type": "markdown",
   "source": [
    "### 공부 시간 vs 시험 점수\n",
    "공부 시간이 늘어나면 점수도 같이 올라갈까요? 직접 그래프를 그려봅시다.\n"
   ],
   "id": "41c6e17979cc7b2a"
  },
  {
   "metadata": {
    "ExecuteTime": {
     "end_time": "2025-05-12T05:55:50.716747Z",
     "start_time": "2025-05-12T05:55:50.602270Z"
    }
   },
   "cell_type": "code",
   "source": [
    "import matplotlib.pyplot as plt\n",
    "import matplotlib.font_manager as fm\n",
    "import platform\n",
    "\n",
    "# 시스템에 따라 기본 한글 폰트 설정\n",
    "if platform.system() == 'Darwin':  # macOS\n",
    "    plt.rcParams['font.family'] = 'AppleGothic'\n",
    "elif platform.system() == 'Windows':  # Windows\n",
    "    plt.rcParams['font.family'] = 'Malgun Gothic'\n",
    "else:  # Linux or 기타\n",
    "    plt.rcParams['font.family'] = 'NanumGothic'\n",
    "\n",
    "# 마이너스 깨짐 방지\n",
    "plt.rcParams['axes.unicode_minus'] = False\n",
    "\n",
    "plt.scatter(df[\"공부시간(시간)\"], df[\"시험점수\"], color=\"blue\")\n",
    "plt.xlabel(\"공부시간(시간)\")\n",
    "plt.ylabel(\"시험점수\")\n",
    "plt.title(\"공부시간과 시험점수의 관계\")\n",
    "plt.grid(True)\n",
    "plt.show()\n"
   ],
   "id": "dedcf76cdd27c2e2",
   "outputs": [
    {
     "data": {
      "text/plain": [
       "<Figure size 640x480 with 1 Axes>"
      ],
      "image/png": "[encoded data removed]"
     },
     "metadata": {},
     "output_type": "display_data"
    }
   ],
   "execution_count": 4
  },
  {
   "metadata": {},
   "cell_type": "markdown",
   "source": "스마트폰을 오래 쓸수록 점수가 어떻게 변하는지도 볼 수 있어요.",
   "id": "dc24c2bf74dd87ee"
  },
  {
   "metadata": {
    "ExecuteTime": {
     "end_time": "2025-05-12T05:56:44.501783Z",
     "start_time": "2025-05-12T05:56:44.407328Z"
    }
   },
   "cell_type": "code",
   "source": [
    "\n",
    "plt.scatter(df[\"스마트폰 사용시간(시간)\"], df[\"시험점수\"], color=\"red\")\n",
    "plt.xlabel(\"스마트폰 사용시간(시간)\")\n",
    "plt.ylabel(\"시험점수\")\n",
    "plt.title(\"스마트폰 사용시간과 시험점수의 관계\")\n",
    "plt.grid(True)\n",
    "plt.show()\n",
    "\n"
   ],
   "id": "56e8574cdebe7d91",
   "outputs": [
    {
     "data": {
      "text/plain": [
       "<Figure size 640x480 with 1 Axes>"
      ],
      "image/png": "[encoded data removed]"
     },
     "metadata": {},
     "output_type": "display_data"
    }
   ],
   "execution_count": 6
  },
  {
   "metadata": {},
   "cell_type": "markdown",
   "source": [
    "## 🔍 정리해볼까요?\n",
    "\n",
    "- 공부 시간이 많을수록 점수가 **올라가는 경향**이 있어 보여요.\n",
    "- 스마트폰을 많이 쓸수록 점수는 **떨어지는 경향**이 있어 보여요.\n",
    "\n",
    "이런 식으로 **변수와 결과 사이의 관계**를 시각화하고 분석하는 것이\n",
    "바로 **\"주요 변수 찾기\"의 첫걸음**이에요!\n",
    "\n",
    "우리는 앞으로 이걸 더 수학적이고 정확하게 할 수 있는\n",
    "**회귀 분석 기법**도 배울 거예요 😎\n"
   ],
   "id": "6cc7e7420fe5e730"
  },
  {
   "metadata": {},
   "cell_type": "markdown",
   "source": "",
   "id": "b0987d19555ac00f"
  },
  {
   "metadata": {},
   "cell_type": "code",
   "outputs": [],
   "execution_count": null,
   "source": "",
   "id": "c5a0236d1adb8bc"
  }
 ],
 "metadata": {
  "kernelspec": {
   "display_name": "Python 3",
   "language": "python",
   "name": "python3"
  },
  "language_info": {
   "codemirror_mode": {
    "name": "ipython",
    "version": 2
   },
   "file_extension": ".py",
   "mimetype": "text/x-python",
   "name": "python",
   "nbconvert_exporter": "python",
   "pygments_lexer": "ipython2",
   "version": "2.7.6"
  }
 },
 "nbformat": 4,
 "nbformat_minor": 5
}
